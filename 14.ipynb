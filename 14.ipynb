{
 "cells": [
  {
   "cell_type": "markdown",
   "metadata": {},
   "source": [
    "# Day 14: Docking Data\n",
    "\n",
    "As your ferry approaches the sea port, the captain asks for your help again. The computer system that runs this port isn't compatible with the docking program on the ferry, so the docking parameters aren't being correctly initialized in the docking program's memory.\n",
    "\n",
    "After a brief inspection, you discover that the sea port's computer system uses a strange bitmask system in its initialization program. Although you don't have the correct decoder chip handy, you can emulate it in software!\n",
    "\n",
    "The initialization program (your puzzle input) can either update the bitmask or write a value to memory. Values and memory addresses are both 36-bit unsigned integers. For example, ignoring bitmasks for a moment, a line like mem[8] = 11 would write the value 11 to memory address 8.\n",
    "\n",
    "The bitmask is always given as a string of 36 bits, written with the most significant bit (representing 2^35) on the left and the least significant bit (2^0, that is, the 1s bit) on the right. The current bitmask is applied to values immediately before they are written to memory: a 0 or 1 overwrites the corresponding bit in the value, while an X leaves the bit in the value unchanged.\n",
    "\n",
    "For example, consider the following program:\n",
    "\n",
    "```\n",
    "mask = XXXXXXXXXXXXXXXXXXXXXXXXXXXXX1XXXX0X\n",
    "mem[8] = 11\n",
    "mem[7] = 101\n",
    "mem[8] = 0\n",
    "```\n",
    "This program starts by specifying a bitmask (mask = ....). The mask it specifies will overwrite two bits in every written value: the 2s bit is overwritten with 0, and the 64s bit is overwritten with 1.\n",
    "\n",
    "The program then attempts to write the value 11 to memory address 8. By expanding everything out to individual bits, the mask is applied as follows:\n",
    "```\n",
    "value:  000000000000000000000000000000001011  (decimal 11)\n",
    "mask:   XXXXXXXXXXXXXXXXXXXXXXXXXXXXX1XXXX0X\n",
    "result: 000000000000000000000000000001001001  (decimal 73)\n",
    "```\n",
    "So, because of the mask, the value 73 is written to memory address 8 instead. Then, the program tries to write 101 to address 7:\n",
    "\n",
    "```\n",
    "value:  000000000000000000000000000001100101  (decimal 101)\n",
    "mask:   XXXXXXXXXXXXXXXXXXXXXXXXXXXXX1XXXX0X\n",
    "result: 000000000000000000000000000001100101  (decimal 101)\n",
    "```\n",
    "This time, the mask has no effect, as the bits it overwrote were already the values the mask tried to set. Finally, the program tries to write 0 to address 8:\n",
    "```\n",
    "value:  000000000000000000000000000000000000  (decimal 0)\n",
    "mask:   XXXXXXXXXXXXXXXXXXXXXXXXXXXXX1XXXX0X\n",
    "result: 000000000000000000000000000001000000  (decimal 64)\n",
    "```\n",
    "64 is written to address 8 instead, overwriting the value that was there previously.\n",
    "\n",
    "To initialize your ferry's docking program, you need the sum of all values left in memory after the initialization program completes. (The entire 36-bit address space begins initialized to the value 0 at every address.) In the above example, only two values in memory are not zero - 101 (at address 7) and 64 (at address 8) - producing a sum of 165.\n",
    "\n",
    "Execute the initialization program. What is the sum of all values left in memory after it completes?"
   ]
  },
  {
   "cell_type": "code",
   "execution_count": null,
   "metadata": {},
   "outputs": [],
   "source": []
  },
  {
   "cell_type": "markdown",
   "metadata": {},
   "source": [
    "Your puzzle answer was 15514035145260."
   ]
  }
 ],
 "metadata": {
  "kernelspec": {
   "display_name": "Python 3",
   "language": "python",
   "name": "python3"
  },
  "language_info": {
   "codemirror_mode": {
    "name": "ipython",
    "version": 3
   },
   "file_extension": ".py",
   "mimetype": "text/x-python",
   "name": "python",
   "nbconvert_exporter": "python",
   "pygments_lexer": "ipython3",
   "version": "3.8.5"
  }
 },
 "nbformat": 4,
 "nbformat_minor": 4
}
