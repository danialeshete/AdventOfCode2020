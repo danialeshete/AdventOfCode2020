{
 "cells": [
  {
   "cell_type": "markdown",
   "metadata": {},
   "source": [
    "# Day 11: Seating System\n",
    "\n",
    "Your plane lands with plenty of time to spare. The final leg of your journey is a ferry that goes directly to the tropical island where you can finally start your vacation. As you reach the waiting area to board the ferry, you realize you're so early, nobody else has even arrived yet!\n",
    "\n",
    "By modeling the process people use to choose (or abandon) their seat in the waiting area, you're pretty sure you can predict the best place to sit. You make a quick map of the seat layout (your puzzle input).\n",
    "\n",
    "The seat layout fits neatly on a grid. Each position is either floor (.), an empty seat (L), or an occupied seat (#). For example, the initial seat layout might look like this:\n",
    "\n",
    "```\n",
    "L.LL.LL.LL\n",
    "LLLLLLL.LL\n",
    "L.L.L..L..\n",
    "LLLL.LL.LL\n",
    "L.LL.LL.LL\n",
    "L.LLLLL.LL\n",
    "..L.L.....\n",
    "LLLLLLLLLL\n",
    "L.LLLLLL.L\n",
    "L.LLLLL.LL\n",
    "```\n",
    "Now, you just need to model the people who will be arriving shortly. Fortunately, people are entirely predictable and always follow a simple set of rules. All decisions are based on the number of occupied seats adjacent to a given seat (one of the eight positions immediately up, down, left, right, or diagonal from the seat). The following rules are applied to every seat simultaneously:\n",
    "\n",
    "If a seat is empty (L) and there are no occupied seats adjacent to it, the seat becomes occupied.\n",
    "If a seat is occupied (#) and four or more seats adjacent to it are also occupied, the seat becomes empty.\n",
    "Otherwise, the seat's state does not change.\n",
    "Floor (.) never changes; seats don't move, and nobody sits on the floor.\n",
    "\n",
    "After one round of these rules, every seat in the example layout becomes occupied:\n",
    "\n",
    "```\n",
    "#.##.##.##\n",
    "#######.##\n",
    "#.#.#..#..\n",
    "####.##.##\n",
    "#.##.##.##\n",
    "#.#####.##\n",
    "..#.#.....\n",
    "##########\n",
    "#.######.#\n",
    "#.#####.##\n",
    "```\n",
    "After a second round, the seats with four or more occupied adjacent seats become empty again:\n",
    "```\n",
    "#.LL.L#.##\n",
    "#LLLLLL.L#\n",
    "L.L.L..L..\n",
    "#LLL.LL.L#\n",
    "#.LL.LL.LL\n",
    "#.LLLL#.##\n",
    "..L.L.....\n",
    "#LLLLLLLL#\n",
    "#.LLLLLL.L\n",
    "#.#LLLL.##\n",
    "```\n",
    "This process continues for three more rounds:\n",
    "```\n",
    "#.##.L#.##\n",
    "#L###LL.L#\n",
    "L.#.#..#..\n",
    "#L##.##.L#\n",
    "#.##.LL.LL\n",
    "#.###L#.##\n",
    "..#.#.....\n",
    "#L######L#\n",
    "#.LL###L.L\n",
    "#.#L###.##\n",
    "#.#L.L#.##\n",
    "#LLL#LL.L#\n",
    "L.L.L..#..\n",
    "#LLL.##.L#\n",
    "#.LL.LL.LL\n",
    "#.LL#L#.##\n",
    "..L.L.....\n",
    "#L#LLLL#L#\n",
    "#.LLLLLL.L\n",
    "#.#L#L#.##\n",
    "#.#L.L#.##\n",
    "#LLL#LL.L#\n",
    "L.#.L..#..\n",
    "#L##.##.L#\n",
    "#.#L.LL.LL\n",
    "#.#L#L#.##\n",
    "..L.L.....\n",
    "#L#L##L#L#\n",
    "#.LLLLLL.L\n",
    "#.#L#L#.##\n",
    "```\n",
    "\n",
    "At this point, something interesting happens: the chaos stabilizes and further applications of these rules cause no seats to change state! Once people stop moving around, you count 37 occupied seats.\n",
    "\n",
    "Simulate your seating area by applying the seating rules repeatedly until no seats change state. How many seats end up occupied?"
   ]
  },
  {
   "cell_type": "code",
   "execution_count": null,
   "metadata": {},
   "outputs": [],
   "source": [
    "import numpy as np\n",
    "from matplotlib import pyplot as plt"
   ]
  },
  {
   "cell_type": "code",
   "execution_count": null,
   "metadata": {},
   "outputs": [
    {
     "data": {
      "text/plain": [
       "array([0, 1, 2, 3, 4, 5, 6, 7, 8])"
      ]
     },
     "execution_count": 19,
     "metadata": {},
     "output_type": "execute_result"
    }
   ],
   "source": [
    "np.arange(0,9)"
   ]
  },
  {
   "cell_type": "code",
   "execution_count": null,
   "metadata": {},
   "outputs": [
    {
     "data": {
      "text/plain": [
       "[0, 1, 2, 3, 4, 5, 6, 7, 8]"
      ]
     },
     "execution_count": 21,
     "metadata": {},
     "output_type": "execute_result"
    }
   ],
   "source": [
    "list(np.arange(0,9))"
   ]
  },
  {
   "cell_type": "code",
   "execution_count": null,
   "metadata": {},
   "outputs": [
    {
     "data": {
      "text/plain": [
       "array([[ 0,  1,  2,  3],\n",
       "       [ 4,  5,  6,  7],\n",
       "       [ 8,  9, 10, 11],\n",
       "       [12, 13, 14, 15]])"
      ]
     },
     "execution_count": 35,
     "metadata": {},
     "output_type": "execute_result"
    }
   ],
   "source": [
    "x = np.arange(0,16).reshape(4,4)\n",
    "x"
   ]
  },
  {
   "cell_type": "code",
   "execution_count": null,
   "metadata": {},
   "outputs": [
    {
     "data": {
      "text/plain": [
       "1"
      ]
     },
     "execution_count": 39,
     "metadata": {},
     "output_type": "execute_result"
    }
   ],
   "source": [
    "x[0,1]"
   ]
  },
  {
   "cell_type": "code",
   "execution_count": null,
   "metadata": {},
   "outputs": [],
   "source": [
    "%matplotlib inline\n",
    "import cv2\n",
    "from matplotlib import pyplot as plot"
   ]
  },
  {
   "cell_type": "code",
   "execution_count": null,
   "metadata": {},
   "outputs": [
    {
     "name": "stdout",
     "output_type": "stream",
     "text": [
      "H 0\n",
      "a 1\n",
      "l 2\n"
     ]
    }
   ],
   "source": [
    "x = [\"H\", \"a\", \"l\"]\n",
    "for index, letter in enumerate(x):\n",
    "    print(letter, index)"
   ]
  },
  {
   "cell_type": "code",
   "execution_count": null,
   "metadata": {},
   "outputs": [],
   "source": [
    "img = cv2.imread(\"file.png\") \n",
    "img = cv2.cvtColor(img, cv2.COLOR_BGR2RGB)"
   ]
  },
  {
   "cell_type": "code",
   "execution_count": null,
   "metadata": {},
   "outputs": [],
   "source": [
    "for y, row_data in enumerate(img): \n",
    "    for x, pixel in enumerate(row_data): \n",
    "        for z, value in enumerate(pixel):\n",
    "            img[y,x, z] = value/2"
   ]
  },
  {
   "cell_type": "code",
   "execution_count": null,
   "metadata": {},
   "outputs": [
    {
     "data": {
      "text/plain": [
       "array([[ 0,  1,  2,  3],\n",
       "       [ 4,  5,  6,  7],\n",
       "       [ 8,  9, 10, 11],\n",
       "       [12, 13, 14, 15]])"
      ]
     },
     "execution_count": 163,
     "metadata": {},
     "output_type": "execute_result"
    }
   ],
   "source": [
    "np.arange(16).reshape(4,4)"
   ]
  },
  {
   "cell_type": "code",
   "execution_count": null,
   "metadata": {},
   "outputs": [
    {
     "name": "stdout",
     "output_type": "stream",
     "text": [
      "[[ 0  2  4  6]\n",
      " [ 4  6  8 10]\n",
      " [ 8 10 12 14]\n",
      " [12 14 16 18]]\n"
     ]
    }
   ],
   "source": [
    "x = np.arange(16).reshape(4,4)\n",
    "y = np.arange(4)\n",
    "#print(np.add(x,y))\n",
    "print(x+y)"
   ]
  },
  {
   "cell_type": "code",
   "execution_count": null,
   "metadata": {},
   "outputs": [
    {
     "data": {
      "text/plain": [
       "<matplotlib.image.AxesImage at 0x129eacf40>"
      ]
     },
     "execution_count": 151,
     "metadata": {},
     "output_type": "execute_result"
    },
    {
     "data": {
      "image/png": "[encoded data removed]",
      "text/plain": [
       "<Figure size 432x288 with 1 Axes>"
      ]
     },
     "metadata": {
      "needs_background": "light"
     },
     "output_type": "display_data"
    }
   ],
   "source": [
    "plt.imshow(img +150)"
   ]
  },
  {
   "cell_type": "code",
   "execution_count": null,
   "metadata": {},
   "outputs": [
    {
     "data": {
      "text/plain": [
       "(536, 3)"
      ]
     },
     "execution_count": 128,
     "metadata": {},
     "output_type": "execute_result"
    }
   ],
   "source": [
    "img[0].shape"
   ]
  },
  {
   "cell_type": "code",
   "execution_count": null,
   "metadata": {},
   "outputs": [
    {
     "data": {
      "text/plain": [
       "<matplotlib.image.AxesImage at 0x1298e4370>"
      ]
     },
     "execution_count": 135,
     "metadata": {},
     "output_type": "execute_result"
    },
    {
     "data": {
      "image/png": "[encoded data removed]",
      "text/plain": [
       "<Figure size 432x288 with 1 Axes>"
      ]
     },
     "metadata": {
      "needs_background": "light"
     },
     "output_type": "display_data"
    }
   ],
   "source": [
    "plt.imshow(img[:,:, 1])"
   ]
  },
  {
   "cell_type": "code",
   "execution_count": null,
   "metadata": {},
   "outputs": [
    {
     "name": "stdout",
     "output_type": "stream",
     "text": [
      "[[b'L' b'L' b'L' ... b'L' b'L' b'L']\n",
      " [b'L' b'L' b'L' ... b'L' b'L' b'L']\n",
      " [b'L' b'L' b'L' ... b'L' b'L' b'L']\n",
      " ...\n",
      " [b'L' b'L' b'L' ... b'L' b'L' b'L']\n",
      " [b'L' b'L' b'L' ... b'L' b'L' b'.']\n",
      " [b'L' b'L' b'L' ... b'L' b'L' b'L']]\n"
     ]
    }
   ],
   "source": [
    "with open(\"inputs/11.txt\") as input_file:\n",
    "    input = input_file.read()\n",
    "\n",
    "seatplan = [[seat for seat in row] for row in input.splitlines()]    \n",
    "seatplan = np.asarray(seatplan, dtype=\"S1\")   \n",
    "print(seatplan)"
   ]
  },
  {
   "cell_type": "code",
   "execution_count": null,
   "metadata": {
    "tags": []
   },
   "outputs": [
    {
     "name": "stdout",
     "output_type": "stream",
     "text": [
      "0\n"
     ]
    }
   ],
   "source": [
    "FLOOR = \".\"\n",
    "OCCUPIED = \"#\"\n",
    "FREE = b\"L\"\n",
    "\n",
    "def num_occupied(seatplan, x, y):\n",
    "    check_seats = np.array([\n",
    "    [x,    y], [x+1,  y-1], [x+2,y],\n",
    "    [x,  y+1],            [x+2,y+1],\n",
    "    [x,  y+2], [x+1,y+2], [x+2,y+2]\n",
    "    ])\n",
    "    x_coords = check_seats[:, 0]\n",
    "    y_coords = check_seats[:, 1]\n",
    "    \n",
    "    #frame = seatplan[x_coords, y_coords]\n",
    "    padded_plan = np.pad(seatplan, pad_width=1, mode=\"constant\", constant_values=FLOOR)\n",
    "    frame = padded_plan[x_coords, y_coords]\n",
    "    \n",
    "    return np.sum(frame == OCCUPIED)\n",
    "\n",
    "def iterate_seatplan(old_seatplan):\n",
    "    new_plan = old_seatplan.copy()\n",
    "    for x, y in np.ndindex(old_seatplan.shape):\n",
    "        occupied = num_occupied(old_seatplan, x, y)\n",
    "        if old_seatplan[x,y] == OCCUPIED and occupied >= 4: \n",
    "            old_seatplan[x,y] = FREE\n",
    "        elif old_seatplan[x,y] ==FREE and occupied == 0:\n",
    "            new_plan[x,y] = OCCUPIED\n",
    "    return new_plan\n",
    "    \n",
    "def calc_seatplan(seatplan):\n",
    "    old_plan = seatplan.copy()\n",
    "    while True:\n",
    "        new_plan = iterate_seatplan(old_plan)\n",
    "        if np.array_equal(old_plan, new_plan):\n",
    "            break\n",
    "        old_plan = new_plan\n",
    "    num_occupied_seats = np.sum(new_plan == OCCUPIED)\n",
    "    print(num_occupied_seats)\n",
    "\n",
    "calc_seatplan(seatplan)"
   ]
  },
  {
   "cell_type": "code",
   "execution_count": null,
   "metadata": {},
   "outputs": [
    {
     "ename": "AttributeError",
     "evalue": "'bool' object has no attribute 'astype'",
     "output_type": "error",
     "traceback": [
      "\u001b[0;31m---------------------------------------------------------------------------\u001b[0m",
      "\u001b[0;31mAttributeError\u001b[0m                            Traceback (most recent call last)",
      "Input \u001b[0;32mIn [276]\u001b[0m, in \u001b[0;36m<cell line: 16>\u001b[0;34m()\u001b[0m\n\u001b[1;32m     13\u001b[0m     to_be_occupied \u001b[38;5;241m=\u001b[39m (occupancy_plan \u001b[38;5;241m==\u001b[39m \u001b[38;5;241m0\u001b[39m) \u001b[38;5;241m&\u001b[39m (old_plan \u001b[38;5;241m==\u001b[39m FREE)\n\u001b[1;32m     14\u001b[0m     \u001b[38;5;28mprint\u001b[39m(to_be_occupied)\n\u001b[0;32m---> 16\u001b[0m \u001b[43miterate_seatplan_smart\u001b[49m\u001b[43m(\u001b[49m\u001b[43mseatplan\u001b[49m\u001b[43m)\u001b[49m\n\u001b[1;32m     17\u001b[0m seatplan\u001b[38;5;241m.\u001b[39mshape\n",
      "Input \u001b[0;32mIn [276]\u001b[0m, in \u001b[0;36miterate_seatplan_smart\u001b[0;34m(old_plan)\u001b[0m\n\u001b[1;32m      2\u001b[0m \u001b[38;5;28;01mdef\u001b[39;00m \u001b[38;5;21miterate_seatplan_smart\u001b[39m(old_plan):\n\u001b[1;32m      3\u001b[0m     new_plan \u001b[38;5;241m=\u001b[39m old_plan\u001b[38;5;241m.\u001b[39mcopy()\n\u001b[0;32m----> 4\u001b[0m     int_plan \u001b[38;5;241m=\u001b[39m \u001b[43m(\u001b[49m\u001b[43mold_plan\u001b[49m\u001b[43m \u001b[49m\u001b[38;5;241;43m==\u001b[39;49m\u001b[43m \u001b[49m\u001b[43mOCCUPIED\u001b[49m\u001b[43m)\u001b[49m\u001b[38;5;241;43m.\u001b[39;49m\u001b[43mastype\u001b[49m(np\u001b[38;5;241m.\u001b[39mint32)\n\u001b[1;32m      5\u001b[0m     kernel \u001b[38;5;241m=\u001b[39m [\n\u001b[1;32m      6\u001b[0m         [\u001b[38;5;241m1\u001b[39m,\u001b[38;5;241m1\u001b[39m,\u001b[38;5;241m1\u001b[39m],\n\u001b[1;32m      7\u001b[0m         [\u001b[38;5;241m1\u001b[39m,\u001b[38;5;241m0\u001b[39m,\u001b[38;5;241m1\u001b[39m],\n\u001b[1;32m      8\u001b[0m         [\u001b[38;5;241m1\u001b[39m,\u001b[38;5;241m1\u001b[39m,\u001b[38;5;241m1\u001b[39m],\n\u001b[1;32m      9\u001b[0m     ]\n\u001b[1;32m     10\u001b[0m     occupancy_plan \u001b[38;5;241m=\u001b[39m ndimage\u001b[38;5;241m.\u001b[39mconvolve(int_plan, kernel, mode\u001b[38;5;241m=\u001b[39m\u001b[38;5;124m\"\u001b[39m\u001b[38;5;124mconstant\u001b[39m\u001b[38;5;124m\"\u001b[39m,cval\u001b[38;5;241m=\u001b[39m\u001b[38;5;241m0\u001b[39m)\n",
      "\u001b[0;31mAttributeError\u001b[0m: 'bool' object has no attribute 'astype'"
     ]
    }
   ],
   "source": [
    "from scipy import ndimage\n",
    "def iterate_seatplan_smart(old_plan):\n",
    "    new_plan = old_plan.copy()\n",
    "    int_plan = (old_plan == OCCUPIED).astype(np.int32)\n",
    "    kernel = [\n",
    "        [1,1,1],\n",
    "        [1,0,1],\n",
    "        [1,1,1],\n",
    "    ]\n",
    "    occupancy_plan = ndimage.convolve(int_plan, kernel, mode=\"constant\",cval=0)\n",
    "    print(occupancy_plan == 0)\n",
    "    print(old_plan == FREE)\n",
    "    to_be_occupied = (occupancy_plan == 0) & (old_plan == FREE)\n",
    "    print(to_be_occupied)\n",
    "    \n",
    "iterate_seatplan_smart(seatplan)\n",
    "seatplan.shape"
   ]
  },
  {
   "cell_type": "code",
   "execution_count": null,
   "metadata": {},
   "outputs": [
    {
     "data": {
      "text/plain": [
       "array([[0, 1, 2],\n",
       "       [3, 4, 5],\n",
       "       [6, 7, 8]])"
      ]
     },
     "execution_count": 182,
     "metadata": {},
     "output_type": "execute_result"
    }
   ],
   "source": [
    "x = np.arange(0,9).reshape(3,3)\n",
    "x"
   ]
  },
  {
   "cell_type": "code",
   "execution_count": null,
   "metadata": {},
   "outputs": [
    {
     "name": "stdout",
     "output_type": "stream",
     "text": [
      "[[3 4 5]\n",
      " [6 7 8]\n",
      " [6 7 8]]\n"
     ]
    }
   ],
   "source": [
    "print(x[[1,2,2],:])"
   ]
  },
  {
   "cell_type": "code",
   "execution_count": null,
   "metadata": {},
   "outputs": [
    {
     "name": "stdout",
     "output_type": "stream",
     "text": [
      "[4 8 8]\n"
     ]
    }
   ],
   "source": [
    "print(x[[1,2,2],[1,2,2]])"
   ]
  },
  {
   "cell_type": "code",
   "execution_count": null,
   "metadata": {},
   "outputs": [
    {
     "name": "stdout",
     "output_type": "stream",
     "text": [
      "\u001b[33mDEPRECATION: Configuring installation scheme with distutils config files is deprecated and will no longer work in the near future. If you are using a Homebrew or Linuxbrew Python, please see discussion at https://github.com/Homebrew/homebrew-core/issues/76621\u001b[0m\n",
      "Collecting scipy\n",
      "  Downloading scipy-1.8.0-cp39-cp39-macosx_12_0_universal2.macosx_10_9_x86_64.whl (55.6 MB)\n",
      "     |████████████████████████████████| 55.6 MB 7.0 MB/s            \n",
      "\u001b[?25hRequirement already satisfied: numpy<1.25.0,>=1.17.3 in /usr/local/lib/python3.9/site-packages (from scipy) (1.22.3)\n",
      "Installing collected packages: scipy\n",
      "\u001b[33mDEPRECATION: Configuring installation scheme with distutils config files is deprecated and will no longer work in the near future. If you are using a Homebrew or Linuxbrew Python, please see discussion at https://github.com/Homebrew/homebrew-core/issues/76621\u001b[0m\n",
      "Successfully installed scipy-1.8.0\n",
      "\u001b[33mWARNING: You are using pip version 21.3.1; however, version 22.0.4 is available.\n",
      "You should consider upgrading via the '/usr/local/opt/python@3.9/bin/python3.9 -m pip install --upgrade pip' command.\u001b[0m\n"
     ]
    }
   ],
   "source": [
    "!pip3 install scipy\n"
   ]
  },
  {
   "cell_type": "markdown",
   "metadata": {},
   "source": [
    "Your puzzle answer was 2265."
   ]
  }
 ],
 "metadata": {
  "kernelspec": {
   "display_name": "Python 3 (ipykernel)",
   "language": "python",
   "name": "python3"
  },
  "language_info": {
   "codemirror_mode": {
    "name": "ipython",
    "version": 3
   },
   "file_extension": ".py",
   "mimetype": "text/x-python",
   "name": "python",
   "nbconvert_exporter": "python",
   "pygments_lexer": "ipython3",
   "version": "3.9.10"
  }
 },
 "nbformat": 4,
 "nbformat_minor": 4
}
